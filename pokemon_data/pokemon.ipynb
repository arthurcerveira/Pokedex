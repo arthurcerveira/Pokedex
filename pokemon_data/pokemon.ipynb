{
  "nbformat": 4,
  "nbformat_minor": 0,
  "metadata": {
    "colab": {
      "name": "pokemon.ipynb",
      "provenance": [],
      "collapsed_sections": []
    },
    "kernelspec": {
      "name": "python3",
      "display_name": "Python 3"
    }
  },
  "cells": [
    {
      "cell_type": "markdown",
      "metadata": {
        "id": "3KgkSm7Y5zMN",
        "colab_type": "text"
      },
      "source": [
        "# **Import the data from PokeAPI**"
      ]
    },
    {
      "cell_type": "code",
      "metadata": {
        "id": "G4L4XLJu2KG7",
        "colab_type": "code",
        "outputId": "d43e9d10-1b86-4f33-f4e0-c8ab037a2302",
        "colab": {
          "base_uri": "https://localhost:8080/",
          "height": 204
        }
      },
      "source": [
        "import pandas as pd\n",
        "import requests\n",
        "\n",
        "uri = \"https://pokeapi.co/api/v2/pokemon/?limit=10\"\n",
        "response = requests.get(uri)\n",
        "\n",
        "results = response.json()[\"results\"]\n",
        "\n",
        "pokemons = pd.DataFrame(results)\n",
        "\n",
        "pokemons.head()"
      ],
      "execution_count": 1,
      "outputs": [
        {
          "output_type": "execute_result",
          "data": {
            "text/html": [
              "<div>\n",
              "<style scoped>\n",
              "    .dataframe tbody tr th:only-of-type {\n",
              "        vertical-align: middle;\n",
              "    }\n",
              "\n",
              "    .dataframe tbody tr th {\n",
              "        vertical-align: top;\n",
              "    }\n",
              "\n",
              "    .dataframe thead th {\n",
              "        text-align: right;\n",
              "    }\n",
              "</style>\n",
              "<table border=\"1\" class=\"dataframe\">\n",
              "  <thead>\n",
              "    <tr style=\"text-align: right;\">\n",
              "      <th></th>\n",
              "      <th>name</th>\n",
              "      <th>url</th>\n",
              "    </tr>\n",
              "  </thead>\n",
              "  <tbody>\n",
              "    <tr>\n",
              "      <th>0</th>\n",
              "      <td>bulbasaur</td>\n",
              "      <td>https://pokeapi.co/api/v2/pokemon/1/</td>\n",
              "    </tr>\n",
              "    <tr>\n",
              "      <th>1</th>\n",
              "      <td>ivysaur</td>\n",
              "      <td>https://pokeapi.co/api/v2/pokemon/2/</td>\n",
              "    </tr>\n",
              "    <tr>\n",
              "      <th>2</th>\n",
              "      <td>venusaur</td>\n",
              "      <td>https://pokeapi.co/api/v2/pokemon/3/</td>\n",
              "    </tr>\n",
              "    <tr>\n",
              "      <th>3</th>\n",
              "      <td>charmander</td>\n",
              "      <td>https://pokeapi.co/api/v2/pokemon/4/</td>\n",
              "    </tr>\n",
              "    <tr>\n",
              "      <th>4</th>\n",
              "      <td>charmeleon</td>\n",
              "      <td>https://pokeapi.co/api/v2/pokemon/5/</td>\n",
              "    </tr>\n",
              "  </tbody>\n",
              "</table>\n",
              "</div>"
            ],
            "text/plain": [
              "         name                                   url\n",
              "0   bulbasaur  https://pokeapi.co/api/v2/pokemon/1/\n",
              "1     ivysaur  https://pokeapi.co/api/v2/pokemon/2/\n",
              "2    venusaur  https://pokeapi.co/api/v2/pokemon/3/\n",
              "3  charmander  https://pokeapi.co/api/v2/pokemon/4/\n",
              "4  charmeleon  https://pokeapi.co/api/v2/pokemon/5/"
            ]
          },
          "metadata": {
            "tags": []
          },
          "execution_count": 1
        }
      ]
    },
    {
      "cell_type": "markdown",
      "metadata": {
        "id": "s9PgHuDe-mkW",
        "colab_type": "text"
      },
      "source": [
        "# **Generates a dictionary with the Pokemon information**"
      ]
    },
    {
      "cell_type": "code",
      "metadata": {
        "id": "1tPP_gk_7O05",
        "colab_type": "code",
        "outputId": "faa1a71f-b630-4af8-f045-f5a1f9c21828",
        "colab": {
          "base_uri": "https://localhost:8080/",
          "height": 161
        }
      },
      "source": [
        "from pprint import pprint\n",
        "\n",
        "pokemon_info = []\n",
        "irrelevant_data = ['moves', 'stats', 'game_indices',\n",
        "                   'abilities', 'held_items', 'forms',\n",
        "                   'base_experience', 'is_default',\n",
        "                   'order', 'id', 'sprites',\n",
        "                   'location_area_encounters']\n",
        "\n",
        "for pokemon in pokemons.iterrows():\n",
        "  index = pokemon[0] + 1\n",
        "  uri = f'https://pokeapi.co/api/v2/pokemon/{index}'\n",
        "  \n",
        "  response = requests.get(uri)\n",
        "\n",
        "  info = response.json()\n",
        "  info[\"index\"] = index\n",
        "\n",
        "  name = pokemon[1][\"name\"]\n",
        "  info[\"name\"] = name\n",
        "\n",
        "  sprite = info[\"sprites\"][\"front_default\"]\n",
        "  info[\"sprite\"] = sprite\n",
        "\n",
        "  types = list(map(lambda t: t[\"type\"][\"name\"], info[\"types\"]))\n",
        "  info[\"types\"] = types\n",
        "\n",
        "  # Removes irrelevant data\n",
        "  for data in irrelevant_data:\n",
        "    info.pop(data)\n",
        "\n",
        "  pokemon_info.append(info)\n",
        "\n",
        "pprint(pokemon_info[0])"
      ],
      "execution_count": 2,
      "outputs": [
        {
          "output_type": "stream",
          "text": [
            "{'height': 7,\n",
            " 'index': 1,\n",
            " 'name': 'bulbasaur',\n",
            " 'species': {'name': 'bulbasaur',\n",
            "             'url': 'https://pokeapi.co/api/v2/pokemon-species/1/'},\n",
            " 'sprite': 'https://raw.githubusercontent.com/PokeAPI/sprites/master/sprites/pokemon/1.png',\n",
            " 'types': ['poison', 'grass'],\n",
            " 'weight': 69}\n"
          ],
          "name": "stdout"
        }
      ]
    },
    {
      "cell_type": "markdown",
      "metadata": {
        "id": "WvLeuN7Km-AR",
        "colab_type": "text"
      },
      "source": [
        "# **Get information from other end points**"
      ]
    },
    {
      "cell_type": "code",
      "metadata": {
        "id": "koteL_ZDnGGu",
        "colab_type": "code",
        "outputId": "0c50ba65-35d3-4311-a267-ad0966d51465",
        "colab": {
          "base_uri": "https://localhost:8080/",
          "height": 197
        }
      },
      "source": [
        "for pokemon in pokemon_info:\n",
        "  uri = pokemon[\"species\"][\"url\"]\n",
        "\n",
        "  response = requests.get(uri)\n",
        "  info = response.json()\n",
        "\n",
        "  for flavor_text in info[\"flavor_text_entries\"]:\n",
        "    if flavor_text[\"language\"][\"name\"] == \"en\":\n",
        "      pokemon[\"description\"] = flavor_text[\"flavor_text\"]\n",
        "      break\n",
        "\n",
        "  for genus in info[\"genera\"]:\n",
        "    if genus[\"language\"][\"name\"] == \"en\":\n",
        "      pokemon[\"specie\"] = genus[\"genus\"]\n",
        "      break\n",
        "  \n",
        "  pokemon.pop(\"species\")\n",
        "\n",
        "\n",
        "pprint(pokemon_info[9])\n",
        "\n",
        "  "
      ],
      "execution_count": 3,
      "outputs": [
        {
          "output_type": "stream",
          "text": [
            "{'description': 'Perhaps because it would like to grow up\\n'\n",
            "                'quickly, it has a voracious appetite, eating\\n'\n",
            "                'a hundred leaves a day.',\n",
            " 'height': 3,\n",
            " 'index': 10,\n",
            " 'name': 'caterpie',\n",
            " 'specie': 'Worm Pokémon',\n",
            " 'sprite': 'https://raw.githubusercontent.com/PokeAPI/sprites/master/sprites/pokemon/10.png',\n",
            " 'types': ['bug'],\n",
            " 'weight': 29}\n"
          ],
          "name": "stdout"
        }
      ]
    }
  ]
}